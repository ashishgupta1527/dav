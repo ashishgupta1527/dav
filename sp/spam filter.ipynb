{
 "cells": [
  {
   "cell_type": "code",
   "execution_count": 1,
   "id": "71b1b8de",
   "metadata": {},
   "outputs": [],
   "source": [
    "import numpy as np\n",
    "import matplotlib.pyplot as plt\n",
    "import pandas as pd\n",
    "import string"
   ]
  },
  {
   "cell_type": "code",
   "execution_count": 2,
   "id": "54173d48",
   "metadata": {},
   "outputs": [],
   "source": [
    "#read dataset\n",
    "spam_df = pd.read_csv('spam.csv', encoding=\"ISO-8859-1\")\n",
    "\n",
    "#subset and rename columns\n",
    "spam_df = spam_df[['v1', 'v2']]\n",
    "spam_df.rename(columns={'v1': 'spam', 'v2': 'text'}, inplace=True)\n",
    "\n",
    "#convert spam column to binary\n",
    "spam_df.spam = spam_df.spam.apply(lambda s: True if s=='spam' else False)\n",
    "\n",
    "#lowercase everything and remove punctuation\n",
    "spam_df.text = spam_df.text.apply(lambda t: t.lower().translate(str.maketrans('', '', string.punctuation)))\n",
    "\n",
    "#shuffle\n",
    "spam_df = spam_df.sample(frac=1)"
   ]
  },
  {
   "cell_type": "code",
   "execution_count": 3,
   "id": "9589f92c",
   "metadata": {
    "collapsed": true
   },
   "outputs": [
    {
     "data": {
      "text/html": [
       "<div>\n",
       "<style scoped>\n",
       "    .dataframe tbody tr th:only-of-type {\n",
       "        vertical-align: middle;\n",
       "    }\n",
       "\n",
       "    .dataframe tbody tr th {\n",
       "        vertical-align: top;\n",
       "    }\n",
       "\n",
       "    .dataframe thead th {\n",
       "        text-align: right;\n",
       "    }\n",
       "</style>\n",
       "<table border=\"1\" class=\"dataframe\">\n",
       "  <thead>\n",
       "    <tr style=\"text-align: right;\">\n",
       "      <th></th>\n",
       "      <th>spam</th>\n",
       "      <th>text</th>\n",
       "    </tr>\n",
       "  </thead>\n",
       "  <tbody>\n",
       "    <tr>\n",
       "      <th>763</th>\n",
       "      <td>False</td>\n",
       "      <td>nothing but we jus tot u would ask cos u ba gu...</td>\n",
       "    </tr>\n",
       "    <tr>\n",
       "      <th>3365</th>\n",
       "      <td>False</td>\n",
       "      <td>i am waiting for your call sir</td>\n",
       "    </tr>\n",
       "    <tr>\n",
       "      <th>2582</th>\n",
       "      <td>True</td>\n",
       "      <td>3 free tarot texts find out about your love li...</td>\n",
       "    </tr>\n",
       "    <tr>\n",
       "      <th>721</th>\n",
       "      <td>False</td>\n",
       "      <td>sfine anytime all the best with it</td>\n",
       "    </tr>\n",
       "    <tr>\n",
       "      <th>2237</th>\n",
       "      <td>False</td>\n",
       "      <td>give her something to drink if she takes it an...</td>\n",
       "    </tr>\n",
       "    <tr>\n",
       "      <th>...</th>\n",
       "      <td>...</td>\n",
       "      <td>...</td>\n",
       "    </tr>\n",
       "    <tr>\n",
       "      <th>1396</th>\n",
       "      <td>False</td>\n",
       "      <td>shall i start from hear</td>\n",
       "    </tr>\n",
       "    <tr>\n",
       "      <th>4957</th>\n",
       "      <td>False</td>\n",
       "      <td>why didnt u call on your lunch</td>\n",
       "    </tr>\n",
       "    <tr>\n",
       "      <th>2534</th>\n",
       "      <td>False</td>\n",
       "      <td>ok enjoy  r u there in home</td>\n",
       "    </tr>\n",
       "    <tr>\n",
       "      <th>4816</th>\n",
       "      <td>False</td>\n",
       "      <td>me too mark is taking forever to pick up my pr...</td>\n",
       "    </tr>\n",
       "    <tr>\n",
       "      <th>2761</th>\n",
       "      <td>False</td>\n",
       "      <td>i am not sure about night menu   i know only a...</td>\n",
       "    </tr>\n",
       "  </tbody>\n",
       "</table>\n",
       "<p>5572 rows × 2 columns</p>\n",
       "</div>"
      ],
      "text/plain": [
       "       spam                                               text\n",
       "763   False  nothing but we jus tot u would ask cos u ba gu...\n",
       "3365  False                     i am waiting for your call sir\n",
       "2582   True  3 free tarot texts find out about your love li...\n",
       "721   False                 sfine anytime all the best with it\n",
       "2237  False  give her something to drink if she takes it an...\n",
       "...     ...                                                ...\n",
       "1396  False                            shall i start from hear\n",
       "4957  False                     why didnt u call on your lunch\n",
       "2534  False                        ok enjoy  r u there in home\n",
       "4816  False  me too mark is taking forever to pick up my pr...\n",
       "2761  False  i am not sure about night menu   i know only a...\n",
       "\n",
       "[5572 rows x 2 columns]"
      ]
     },
     "execution_count": 3,
     "metadata": {},
     "output_type": "execute_result"
    }
   ],
   "source": [
    "spam_df"
   ]
  },
  {
   "cell_type": "code",
   "execution_count": 4,
   "id": "8748726d",
   "metadata": {
    "collapsed": true
   },
   "outputs": [
    {
     "name": "stdout",
     "output_type": "stream",
     "text": [
      "3 free tarot texts find out about your love life now try 3 for free text chance to 85555 16 only after 3 free msgs å£150 each\n",
      "-------\n",
      "22 146tf150p\n",
      "-------\n",
      "please call 08712402578 immediately as there is an urgent message waiting for you\n",
      "-------\n",
      "tddnewsletteremc1couk more games from thedailydraw dear helen dozens of free games  with great prizeswith\n",
      "-------\n",
      "you are being contacted by our dating service by someone you know to find out who it is call from a land line 09050000878 pobox45w2tg150p\n",
      "-------\n"
     ]
    }
   ],
   "source": [
    "for t in spam_df[spam_df.spam == True].iloc[:5].text:\n",
    "    print(t)\n",
    "    print('-------')"
   ]
  },
  {
   "cell_type": "code",
   "execution_count": 5,
   "id": "39d0243e",
   "metadata": {
    "collapsed": true
   },
   "outputs": [
    {
     "name": "stdout",
     "output_type": "stream",
     "text": [
      "nothing but we jus tot u would ask cos u ba gua but we went mt faber yest yest jus went out already mah so today not going out jus call lor\n",
      "-------\n",
      "i am waiting for your call sir\n",
      "-------\n",
      "sfine anytime all the best with it\n",
      "-------\n",
      "give her something to drink if she takes it and doesnt vomit then you her temp might drop if she unmits however let me know\n",
      "-------\n",
      "cool ill text you in a few\n",
      "-------\n"
     ]
    }
   ],
   "source": [
    "for t in spam_df[spam_df.spam == False].iloc[:5].text:\n",
    "    print(t)\n",
    "    print('-------')"
   ]
  },
  {
   "cell_type": "code",
   "execution_count": 6,
   "id": "6542d5e6",
   "metadata": {},
   "outputs": [],
   "source": [
    "#get training set\n",
    "train_spam_df = spam_df.iloc[:int(len(spam_df)*0.7)]\n",
    "\n",
    "#get testing set\n",
    "test_spam_df = spam_df.iloc[int(len(spam_df)*0.7):]"
   ]
  },
  {
   "cell_type": "code",
   "execution_count": 7,
   "id": "82deabd4",
   "metadata": {},
   "outputs": [
    {
     "name": "stdout",
     "output_type": "stream",
     "text": [
      "0.13282051282051283\n"
     ]
    }
   ],
   "source": [
    "FRAC_SPAM_TEXTS = train_spam_df.spam.mean()\n",
    "print(FRAC_SPAM_TEXTS)"
   ]
  },
  {
   "cell_type": "code",
   "execution_count": 8,
   "id": "d6facfbf",
   "metadata": {},
   "outputs": [],
   "source": [
    "#get all words from spam and non-spam datasets\n",
    "train_spam_words = ' '.join(train_spam_df[train_spam_df.spam == True].text).split(' ')\n",
    "train_non_spam_words = ' '.join(train_spam_df[train_spam_df.spam == False].text).split(' ')\n",
    "\n",
    "common_words = set(train_spam_words).intersection(set(train_non_spam_words))"
   ]
  },
  {
   "cell_type": "code",
   "execution_count": 9,
   "id": "70a721eb",
   "metadata": {},
   "outputs": [],
   "source": [
    "train_spam_bow = dict()\n",
    "for w in common_words:\n",
    "    train_spam_bow[w] = train_spam_words.count(w) / len(train_spam_words)"
   ]
  },
  {
   "cell_type": "code",
   "execution_count": 10,
   "id": "69d64199",
   "metadata": {},
   "outputs": [],
   "source": [
    "train_non_spam_bow = dict()\n",
    "for w in common_words:\n",
    "    train_non_spam_bow[w] = train_non_spam_words.count(w) / len(train_non_spam_words)"
   ]
  },
  {
   "cell_type": "code",
   "execution_count": 11,
   "id": "61193540",
   "metadata": {},
   "outputs": [],
   "source": [
    "def predict_text(t, verbose=False):\n",
    "    #if some word doesnt appear in either spam or non-spam BOW, disregard it\n",
    "    valid_words = [w for w in t if w in train_spam_bow]\n",
    "    \n",
    "    #get the probabilities of each valid word showing up in spam and non-spam BOW\n",
    "    spam_probs = [train_spam_bow[w] for w in valid_words]\n",
    "    non_spam_probs = [train_non_spam_bow[w] for w in valid_words]\n",
    "    \n",
    "    #print probs if requested\n",
    "    if verbose:\n",
    "        data_df = pd.DataFrame()\n",
    "        data_df['word'] = valid_words\n",
    "        data_df['spam_prob'] = spam_probs\n",
    "        data_df['non_spam_prob'] = non_spam_probs\n",
    "        data_df['ratio'] = [s/n if n > 0 else np.inf for s,n in zip(spam_probs, non_spam_probs)]\n",
    "        print(data_df)\n",
    "     \n",
    "    #calculate spam score as sum of logs for all probabilities\n",
    "    spam_score = sum([np.log(p) for p in spam_probs]) + np.log(FRAC_SPAM_TEXTS)\n",
    "    \n",
    "    #calculate non-spam score as sum of logs for all probabilities\n",
    "    non_spam_score = sum([np.log(p) for p in non_spam_probs]) + np.log(1-FRAC_SPAM_TEXTS)\n",
    "    \n",
    "    #if verbose, report the two scores\n",
    "    if verbose:\n",
    "        print('Spam Score: %s'%spam_score)\n",
    "        print('Non-Spam Score: %s'%non_spam_score)\n",
    "   \n",
    "    #if spam score is higher, mark this as spam\n",
    "    return (spam_score >= non_spam_score)"
   ]
  },
  {
   "cell_type": "code",
   "execution_count": 12,
   "id": "7dbe2152",
   "metadata": {},
   "outputs": [],
   "source": [
    "predictions = test_spam_df.text.apply(lambda t: predict_text(t.split()))"
   ]
  },
  {
   "cell_type": "code",
   "execution_count": 13,
   "id": "67e14dec",
   "metadata": {},
   "outputs": [
    {
     "name": "stdout",
     "output_type": "stream",
     "text": [
      "Fraction Spam Correctly Detected: 0.9039301310043668\n"
     ]
    }
   ],
   "source": [
    "frac_spam_messages_correctly_detected = np.sum((predictions == True) & (test_spam_df.spam == True)) / np.sum(test_spam_df.spam == True)\n",
    "print('Fraction Spam Correctly Detected: %s'%frac_spam_messages_correctly_detected)"
   ]
  },
  {
   "cell_type": "code",
   "execution_count": 14,
   "id": "b4326b9f",
   "metadata": {},
   "outputs": [
    {
     "name": "stdout",
     "output_type": "stream",
     "text": [
      "Fraction Valid Messages Sent to Spam: 0.02079002079002079\n"
     ]
    }
   ],
   "source": [
    "frac_valid_sent_to_spam = np.sum((predictions == True) & (test_spam_df.spam == False)) / np.sum(test_spam_df.spam == False)\n",
    "print('Fraction Valid Messages Sent to Spam: %s'%frac_valid_sent_to_spam)"
   ]
  },
  {
   "cell_type": "code",
   "execution_count": 15,
   "id": "89344d5b",
   "metadata": {
    "scrolled": true
   },
   "outputs": [
    {
     "name": "stdout",
     "output_type": "stream",
     "text": [
      "     word  spam_prob  non_spam_prob       ratio\n",
      "0  urgent   0.003223       0.000021  154.407285\n",
      "1    call   0.019260       0.003570    5.395225\n",
      "2    this   0.004755       0.003340    1.423442\n",
      "3  number   0.001289       0.000981    1.314105\n",
      "Spam Score: -23.70799659676579\n",
      "Non-Spam Score: -29.183090969243914\n"
     ]
    },
    {
     "data": {
      "text/plain": [
       "True"
      ]
     },
     "execution_count": 15,
     "metadata": {},
     "output_type": "execute_result"
    }
   ],
   "source": [
    "predict_text('urgent call this number'.split(), verbose=True)"
   ]
  },
  {
   "cell_type": "code",
   "execution_count": 16,
   "id": "30630ec3",
   "metadata": {},
   "outputs": [
    {
     "name": "stdout",
     "output_type": "stream",
     "text": [
      "      word  spam_prob  non_spam_prob     ratio\n",
      "0      hey   0.000242       0.001733  0.139525\n",
      "1       do   0.001370       0.005094  0.268947\n",
      "2      you   0.016762       0.025594  0.654909\n",
      "3     want   0.001612       0.002296  0.701851\n",
      "4       to   0.039568       0.022275  1.776335\n",
      "5       go   0.001853       0.003758  0.493245\n",
      "6        a   0.020953       0.015449  1.356280\n",
      "7    movie   0.000081       0.000251  0.321682\n",
      "8  tonight   0.000161       0.000939  0.171564\n",
      "Spam Score: -59.003489101551054\n",
      "Non-Spam Score: -50.342750499402634\n"
     ]
    },
    {
     "data": {
      "text/plain": [
       "False"
      ]
     },
     "execution_count": 16,
     "metadata": {},
     "output_type": "execute_result"
    }
   ],
   "source": [
    "predict_text('hey do you want to go a movie tonight'.split(), verbose=True)"
   ]
  },
  {
   "cell_type": "code",
   "execution_count": null,
   "id": "6a8bc0cf",
   "metadata": {},
   "outputs": [],
   "source": []
  }
 ],
 "metadata": {
  "kernelspec": {
   "display_name": "Python 3 (ipykernel)",
   "language": "python",
   "name": "python3"
  },
  "language_info": {
   "codemirror_mode": {
    "name": "ipython",
    "version": 3
   },
   "file_extension": ".py",
   "mimetype": "text/x-python",
   "name": "python",
   "nbconvert_exporter": "python",
   "pygments_lexer": "ipython3",
   "version": "3.9.13"
  }
 },
 "nbformat": 4,
 "nbformat_minor": 5
}
